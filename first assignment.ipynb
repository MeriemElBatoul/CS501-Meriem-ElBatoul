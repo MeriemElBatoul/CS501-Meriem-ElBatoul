{
 "cells": [
  {
   "cell_type": "raw",
   "id": "064eda3f-859c-4572-9d29-11d8b0007976",
   "metadata": {},
   "source": [
    "# Q1: Create a variable named `age` and assign your age to it.\n",
    "# Your code here:\n",
    "\n",
    "\n",
    "# Q2: Create two variables, `city` and `country`, and assign your city and country to them.\n",
    "# Your code here:\n",
    "\n",
    "\n",
    "# Q3: Combine `city` and `country` into a single string `location` and print it.\n",
    "# Your code here:\n",
    "\n",
    "\n",
    "# Q4: Change the value of `age` to a different number and print it.\n",
    "# Your code here:\n",
    "\n",
    "\n",
    "# Q5: Create a variable `height` and assign a float value representing your height in meters.\n",
    "# Your code here:\n",
    "\n",
    "\n",
    "# Q6: Check and print the data type of the `height` variable using the `type()` function.\n",
    "# Your code here:\n",
    "\n",
    "\n",
    "# Q7: Assign the value `True` to a variable named `is_student` and print the variable.\n",
    "# Your code here:\n",
    "\n",
    "\n",
    "# Q8: Create a variable `name` with your first name using double quotes and then another variable `surname` with your last name using single quotes. Combine them into `full_name`.\n",
    "# Your code here:\n",
    "\n",
    "\n",
    "# Q9: Create two variables `x` and `y` and assign them integer values. Swap their values without using a third variable.\n",
    "# Your code here:\n",
    "\n",
    "\n",
    "# Q10: Write a statement to update the `age` variable by adding 5 to it.\n",
    "# Your code here:\n",
    "\n",
    "\n",
    "# Q11: Create a variable `length` and assign it the value 15. Create another variable `width` and assign it 10. Calculate the area of a rectangle using these variables and print the result.\n",
    "# Your code here:\n",
    "\n",
    "\n",
    "# Q12: Using the variables `base` and `height`, calculate the area of a triangle and print it. Assume `base = 8` and `height = 5`.\n",
    "# Your code here:\n",
    "\n",
    "\n",
    "# Q13: Create a string variable `greeting` with the text \"Hello\" and another variable `recipient` with the text \"World\". Combine them with a space in between and print the result.\n",
    "# Your code here:\n",
    "\n",
    "\n",
    "# Q14: Create a boolean variable `is_active` and set it to `False`. Then change its value to `True` and print it.\n",
    "# Your code here:\n",
    "\n",
    "\n",
    "# Q15: Using f-strings, print a formatted message: \"My name is [name] and I am [age] years old.\" Replace [name] and [age] with the appropriate variables.\n",
    "# Your code here:\n",
    "\n",
    "\n",
    "# Q16: Create a variable `pi` and assign it the value 3.14159. Print the variable, ensuring it only shows 2 decimal places.\n",
    "# Your code here:\n",
    "\n",
    "\n",
    "# Q17: Assign the value of a mathematical expression (e.g., `2 * (3 + 5)`) to a variable and print it.\n",
    "# Your code here:\n",
    "\n",
    "\n",
    "# Q18: Create a variable `sentence` and assign it a sentence of your choice. Use slicing to print the first 5 characters.\n",
    "# Your code here:\n",
    "\n",
    "\n",
    "# Q19: Create a variable `number` with the value 100. Use an arithmetic operation to double its value and then print it.\n",
    "# Your code here:\n",
    "\n",
    "\n",
    "# Q20: Declare three variables `a`, `b`, and `c` with values 5, 10, and 15 respectively. Calculate and print their average.\n",
    "# Your code here:\n",
    "\n",
    "\n",
    "# =======================================================================\n",
    "# End of Exercise\n",
    "# ======================================================================="
   ]
  },
  {
   "cell_type": "code",
   "execution_count": 4,
   "id": "0bbc25c9-15a8-4803-b0b2-9f8e56e2ee40",
   "metadata": {},
   "outputs": [
    {
     "data": {
      "text/plain": [
       "21"
      ]
     },
     "execution_count": 4,
     "metadata": {},
     "output_type": "execute_result"
    }
   ],
   "source": [
    "# Q1: Create a variable named `age` and assign your age to it.\n",
    "age = 21 \n",
    "age"
   ]
  },
  {
   "cell_type": "code",
   "execution_count": 16,
   "id": "9cd76d6c-8158-498e-a441-7712ecf85129",
   "metadata": {},
   "outputs": [],
   "source": [
    "# Q2: Create two variables, `city` and `country`, and assign your city and country to them.\n",
    "city = 'borj'\n",
    "country= 'algeria'"
   ]
  },
  {
   "cell_type": "code",
   "execution_count": 9,
   "id": "4948bbae-0874-437f-a68a-09ce348eb757",
   "metadata": {},
   "outputs": [
    {
     "name": "stdout",
     "output_type": "stream",
     "text": [
      "my location is borj algeria\n"
     ]
    }
   ],
   "source": [
    "# Q3: Combine `city` and `country` into a single string `location` and print it.\n",
    "print('my location is',city,country)"
   ]
  },
  {
   "cell_type": "code",
   "execution_count": 10,
   "id": "b80b8ee9-5cc1-4cd0-bbbf-155e4edf7cf5",
   "metadata": {},
   "outputs": [
    {
     "name": "stdout",
     "output_type": "stream",
     "text": [
      "My updated age is 31\n"
     ]
    }
   ],
   "source": [
    "# Q4: Change the value of `age` to a different number and print it.\n",
    "age = 31\n",
    "print('My updated age is',age)"
   ]
  },
  {
   "cell_type": "code",
   "execution_count": 17,
   "id": "c9a872a5-975f-4088-9150-31919068bb7f",
   "metadata": {},
   "outputs": [
    {
     "data": {
      "text/plain": [
       "1.65"
      ]
     },
     "execution_count": 17,
     "metadata": {},
     "output_type": "execute_result"
    }
   ],
   "source": [
    "# Q5: Create a variable `height` and assign a float value representing your height in meters.\n",
    "height = 1.65\n",
    "height"
   ]
  },
  {
   "cell_type": "code",
   "execution_count": 14,
   "id": "3fdcd008-a57f-49c0-82d1-fca8bc8b37df",
   "metadata": {},
   "outputs": [
    {
     "name": "stdout",
     "output_type": "stream",
     "text": [
      "Data type of 'height': <class 'float'>\n"
     ]
    }
   ],
   "source": [
    "# Q6: Check and print the data type of the `height` variable using the `type()` function.\n",
    "print(\"Data type of 'height':\", type(height))\n"
   ]
  },
  {
   "cell_type": "code",
   "execution_count": 21,
   "id": "ef37cb97-9069-4d98-8748-b632cffe83c8",
   "metadata": {},
   "outputs": [
    {
     "name": "stdout",
     "output_type": "stream",
     "text": [
      "student: true\n"
     ]
    }
   ],
   "source": [
    "# Q7: Assign the value `True` to a variable named `is_student` and print the variable.\n",
    "is_student = 'true'\n",
    "print('student:',is_student)"
   ]
  },
  {
   "cell_type": "code",
   "execution_count": 24,
   "id": "1175b579-1946-4e0f-9197-35f4b29bd5f2",
   "metadata": {},
   "outputs": [],
   "source": [
    "# Q8: Create a variable `name` with your first name using double quotes and then another variable `surname` with your last name using single quotes. Combine them into `full_name`.\n",
    "name = \"Meriem El Batoul\"\n",
    "surname = 'BIBI'"
   ]
  },
  {
   "cell_type": "code",
   "execution_count": 25,
   "id": "3dcba61b-e275-41a6-9867-6acd5ac060af",
   "metadata": {},
   "outputs": [
    {
     "name": "stdout",
     "output_type": "stream",
     "text": [
      "my Full name: Meriem El Batoul BIBI\n"
     ]
    }
   ],
   "source": [
    "print('my Full name:',name,surname)"
   ]
  },
  {
   "cell_type": "code",
   "execution_count": 2,
   "id": "f177a46d-843c-42a3-ad6d-85175bdf11f7",
   "metadata": {},
   "outputs": [
    {
     "data": {
      "text/plain": [
       "(3, 14)"
      ]
     },
     "execution_count": 2,
     "metadata": {},
     "output_type": "execute_result"
    }
   ],
   "source": [
    "# Q9: Create two variables `x` and `y` and assign them integer values. Swap their values without using a third variable.\n",
    "x = 3\n",
    "y = 14\n",
    "x,y"
   ]
  },
  {
   "cell_type": "code",
   "execution_count": 3,
   "id": "7bec66b0-2e06-4176-b2ca-5e7f91cb44a2",
   "metadata": {},
   "outputs": [
    {
     "data": {
      "text/plain": [
       "(14, 3)"
      ]
     },
     "execution_count": 3,
     "metadata": {},
     "output_type": "execute_result"
    }
   ],
   "source": [
    "x = 14 \n",
    "y = 3 \n",
    "x,y"
   ]
  },
  {
   "cell_type": "code",
   "execution_count": 5,
   "id": "eaacf4b4-257e-43fd-89b5-b26b0f5f9f84",
   "metadata": {},
   "outputs": [
    {
     "data": {
      "text/plain": [
       "26"
      ]
     },
     "execution_count": 5,
     "metadata": {},
     "output_type": "execute_result"
    }
   ],
   "source": [
    "# Q10: Write a statement to update the `age` variable by adding 5 to it.\n",
    "age+=5\n",
    "age"
   ]
  },
  {
   "cell_type": "code",
   "execution_count": 9,
   "id": "d29ba5fb-1d3d-4d8e-a67b-d20c2c0bc704",
   "metadata": {},
   "outputs": [
    {
     "name": "stdout",
     "output_type": "stream",
     "text": [
      "AREA: 150\n"
     ]
    }
   ],
   "source": [
    "# Q11: Create a variable `length` and assign it the value 15. Create another variable `width` and assign it 10. Calculate the area of a rectangle using these variables and print the result.\n",
    "length = 15 \n",
    "width = 10 \n",
    "Area = length*width\n",
    "print('AREA of the rectangle :',Area)"
   ]
  },
  {
   "cell_type": "code",
   "execution_count": 10,
   "id": "4cf8520e-29f8-4da9-bab6-de3308b0c099",
   "metadata": {},
   "outputs": [
    {
     "name": "stdout",
     "output_type": "stream",
     "text": [
      "AREA of triangle : 20.0\n"
     ]
    }
   ],
   "source": [
    "# Q12: Using the variables `base` and `height`, calculate the area of a triangle and print it. Assume `base = 8` and `height = 5`.\n",
    "base = 8\n",
    "height = 5\n",
    "area = (base * height)/2\n",
    "print('AREA of triangle :',area)"
   ]
  },
  {
   "cell_type": "code",
   "execution_count": 13,
   "id": "ef5e23c5-d993-44dc-926d-8758b7917051",
   "metadata": {},
   "outputs": [
    {
     "name": "stdout",
     "output_type": "stream",
     "text": [
      "combined: hello world\n"
     ]
    }
   ],
   "source": [
    "# Q13: Create a string variable `greeting` with the text \"Hello\" and another variable `recipient` with the text \"World\". Combine them with a space in between and print the result.\n",
    "greeting = \"hello\"\n",
    "recipient = \"world\"\n",
    "combined = greeting + \" \" + recipient\n",
    "print(\"combined:\",combined)"
   ]
  },
  {
   "cell_type": "code",
   "execution_count": 15,
   "id": "be35638a-361b-4cc0-a3db-fff96a1a976b",
   "metadata": {},
   "outputs": [
    {
     "name": "stdout",
     "output_type": "stream",
     "text": [
      "True\n"
     ]
    }
   ],
   "source": [
    "# Q14: Create a boolean variable `is_active` and set it to `False`. Then change its value to `True` and print it.\n",
    "is_active = 'False'\n",
    "is_active = 'True'\n",
    "print(is_active)"
   ]
  },
  {
   "cell_type": "code",
   "execution_count": 16,
   "id": "f42ab7dd-334c-4e29-8d69-e648c8971d44",
   "metadata": {},
   "outputs": [
    {
     "name": "stdout",
     "output_type": "stream",
     "text": [
      "My name is Meriem El Batoul and I am 21 years old.\n"
     ]
    }
   ],
   "source": [
    "# Q15: Using f-strings, print a formatted message: \"My name is [name] and I am [age] years old.\" Replace [name] and [age] with the appropriate variables.\n",
    "name = 'Meriem El Batoul'\n",
    "age = 21\n",
    "print(f\"My name is {name} and I am {age} years old.\")"
   ]
  },
  {
   "cell_type": "code",
   "execution_count": 18,
   "id": "187958ee-19a7-4a0b-b691-aeeb2e16af5c",
   "metadata": {},
   "outputs": [
    {
     "name": "stdout",
     "output_type": "stream",
     "text": [
      "3.14\n"
     ]
    }
   ],
   "source": [
    "# Q16: Create a variable `pi` and assign it the value 3.14159. Print the variable, ensuring it only shows 2 decimal places.\n",
    "pi = 3.14159\n",
    "print(f\"{pi:.2f}\")"
   ]
  },
  {
   "cell_type": "code",
   "execution_count": 20,
   "id": "ad547b6e-46a8-4954-9a8e-5989c231179e",
   "metadata": {},
   "outputs": [
    {
     "data": {
      "text/plain": [
       "16"
      ]
     },
     "execution_count": 20,
     "metadata": {},
     "output_type": "execute_result"
    }
   ],
   "source": [
    "# Q17: Assign the value of a mathematical expression (e.g., `2 * (3 + 5)`) to a variable and print it.\n",
    "x = 2 * (3 + 5)\n",
    "x\n"
   ]
  },
  {
   "cell_type": "code",
   "execution_count": 22,
   "id": "ff38d095-50bc-4d34-933f-68d88bd38d9c",
   "metadata": {},
   "outputs": [
    {
     "name": "stdout",
     "output_type": "stream",
     "text": [
      "Iam st\n"
     ]
    }
   ],
   "source": [
    "# Q18: Create a variable `sentence` and assign it a sentence of your choice. Use slicing to print the first 5 characters.\n",
    "sentence = \"Iam studing DS\"\n",
    "print(sentence[:6])"
   ]
  },
  {
   "cell_type": "code",
   "execution_count": 23,
   "id": "2a284abd-18fa-492f-9ed2-93b7c79b7f3f",
   "metadata": {},
   "outputs": [
    {
     "name": "stdout",
     "output_type": "stream",
     "text": [
      "Double NUMBER: 200\n"
     ]
    }
   ],
   "source": [
    "# Q19: Create a variable `number` with the value 100. Use an arithmetic operation to double its value and then print it.\n",
    "number = 100 \n",
    "double = number * 2 \n",
    "print(\"Double NUMBER:\",double)"
   ]
  },
  {
   "cell_type": "code",
   "execution_count": 28,
   "id": "096edba4-b56a-4aea-8a99-a15a78c719d5",
   "metadata": {},
   "outputs": [
    {
     "name": "stdout",
     "output_type": "stream",
     "text": [
      "the average= 10.0\n"
     ]
    }
   ],
   "source": [
    "# Q20: Declare three variables `a`, `b`, and `c` with values 5, 10, and 15 respectively. Calculate and print their average.\n",
    "a = 5 \n",
    "b = 10 \n",
    "c = 15 \n",
    "print(\"the average=\",(a+ b + c)/3)"
   ]
  }
 ],
 "metadata": {
  "kernelspec": {
   "display_name": "Python 3 (ipykernel)",
   "language": "python",
   "name": "python3"
  },
  "language_info": {
   "codemirror_mode": {
    "name": "ipython",
    "version": 3
   },
   "file_extension": ".py",
   "mimetype": "text/x-python",
   "name": "python",
   "nbconvert_exporter": "python",
   "pygments_lexer": "ipython3",
   "version": "3.12.4"
  }
 },
 "nbformat": 4,
 "nbformat_minor": 5
}
